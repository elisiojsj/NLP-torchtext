{
 "cells": [
  {
   "cell_type": "code",
   "execution_count": 1,
   "metadata": {},
   "outputs": [],
   "source": [
    "import torch\n",
    "import torchtext\n",
    "from torchtext.datasets import text_classification\n",
    "import torch.nn as nn\n",
    "import torch.nn.functional as F\n",
    "import os\n",
    "import time\n",
    "import copy\n",
    "import matplotlib.pyplot as plt"
   ]
  },
  {
   "cell_type": "code",
   "execution_count": 2,
   "metadata": {
    "scrolled": true
   },
   "outputs": [],
   "source": [
    "data_path = './data'\n",
    "ngrams = 2\n",
    "\n",
    "#train_dataset, test_dataset = text_classification.DATASETS['YelpReviewFull'](\n",
    "#    root=data_path, ngrams=ngrams, vocab=None)"
   ]
  },
  {
   "cell_type": "code",
   "execution_count": 3,
   "metadata": {},
   "outputs": [],
   "source": [
    "#torch.save(train_dataset, 'train_dataset.pt')\n",
    "#torch.save(test_dataset, 'test_dataset.pt')"
   ]
  },
  {
   "cell_type": "code",
   "execution_count": 4,
   "metadata": {},
   "outputs": [],
   "source": [
    "train_dataset = torch.load('train_dataset.pt')\n",
    "test_dataset = torch.load('test_dataset.pt')"
   ]
  },
  {
   "cell_type": "code",
   "execution_count": 5,
   "metadata": {},
   "outputs": [],
   "source": [
    "class textSentiment(nn.Module):\n",
    "    def __init__(self, vocab_size, embedding_dim, num_classes):\n",
    "        super().__init__()\n",
    "        self.embedding = nn.EmbeddingBag(vocab_size, embedding_dim, sparse=True)\n",
    "        self.fc = nn.Linear(embedding_dim, num_classes)\n",
    "        self.initWeights()\n",
    "        \n",
    "    def initWeights(self):\n",
    "        initrange = 0.5\n",
    "        # initialize weights with an uniform distribution\n",
    "        self.embedding.weight.data.uniform_(-initrange, initrange)\n",
    "        self.fc.weight.data.uniform_(-initrange, initrange)\n",
    "        self.fc.bias.data.zero_()\n",
    "        \n",
    "    def forward(self, text, offsets):\n",
    "        \"\"\"\n",
    "        Arguments:\n",
    "            text: 1-D tensor representing a bag of text tensors\n",
    "            offsets: a list of offsets to delimit the 1-D text tensor\n",
    "                into the individual sequences.\n",
    "        \"\"\"\n",
    "        return self.fc(self.embedding(text, offsets))"
   ]
  },
  {
   "cell_type": "code",
   "execution_count": 6,
   "metadata": {},
   "outputs": [
    {
     "name": "stdout",
     "output_type": "stream",
     "text": [
      "Classes: {0, 1, 2, 3, 4}\n"
     ]
    }
   ],
   "source": [
    "embedding_dim = 16\n",
    "vocab_size = len(train_dataset.get_vocab())\n",
    "\n",
    "classes = train_dataset.get_labels()\n",
    "num_classes = len(classes)\n",
    "\n",
    "print('Classes:', classes)"
   ]
  },
  {
   "cell_type": "code",
   "execution_count": 7,
   "metadata": {},
   "outputs": [],
   "source": [
    "def generateBatch(batch):\n",
    "    text = [bt[1] for bt in batch]\n",
    "    \n",
    "    offsets = torch.tensor([0] + [len(t) for t in text[:-1]])  # starts with 0 and discards the last element\n",
    "    offsets = torch.cumsum(offsets, dim=0)\n",
    "    \n",
    "    labels = torch.tensor([bt[0] for bt in batch])\n",
    "    \n",
    "    text = torch.cat(text, dim=0)\n",
    "    return text, offsets, labels"
   ]
  },
  {
   "cell_type": "code",
   "execution_count": 8,
   "metadata": {},
   "outputs": [],
   "source": [
    "batch_size = 16\n",
    "\n",
    "# split dataset\n",
    "train_size = int(0.95 * len(train_dataset))\n",
    "val_size = len(train_dataset) - train_size\n",
    "\n",
    "train_data, val_data = torch.utils.data.random_split(train_dataset, [train_size, val_size])\n",
    "\n",
    "# create training data loader\n",
    "train_loader = torch.utils.data.DataLoader(dataset=train_data, batch_size=batch_size, shuffle=True, collate_fn=generateBatch)\n",
    "\n",
    "# create validation data loader\n",
    "val_loader = torch.utils.data.DataLoader(dataset=val_data, batch_size=batch_size, shuffle=True, collate_fn=generateBatch)"
   ]
  },
  {
   "cell_type": "code",
   "execution_count": 9,
   "metadata": {},
   "outputs": [
    {
     "name": "stdout",
     "output_type": "stream",
     "text": [
      "Using gpu:  True\n"
     ]
    }
   ],
   "source": [
    "torch.cuda.empty_cache()\n",
    "use_cuda = torch.cuda.is_available()\n",
    "device = torch.device(\"cuda\" if use_cuda else \"cpu\")\n",
    "print(\"Using gpu: \", use_cuda)"
   ]
  },
  {
   "cell_type": "code",
   "execution_count": 10,
   "metadata": {},
   "outputs": [],
   "source": [
    "learning_rate = 4\n",
    "\n",
    "text_classification = textSentiment(vocab_size, embedding_dim, num_classes).to(device)\n",
    "\n",
    "criterion = torch.nn.CrossEntropyLoss().to(device)\n",
    "optimizer = torch.optim.SGD(text_classification.parameters(), lr=learning_rate)\n",
    "scheduler = torch.optim.lr_scheduler.StepLR(optimizer, 1, gamma=0.9)\n"
   ]
  },
  {
   "cell_type": "code",
   "execution_count": 11,
   "metadata": {},
   "outputs": [],
   "source": [
    "PATH_state_dict=('./text_class.pth')"
   ]
  },
  {
   "cell_type": "code",
   "execution_count": 12,
   "metadata": {},
   "outputs": [],
   "source": [
    "\n",
    "def train(model, criterion, optimizer, scheduler, epochs=8):\n",
    "    start_time = time.time()\n",
    "\n",
    "    best_parameters = copy.deepcopy(model.state_dict())\n",
    "    best_val_acc = 0.0\n",
    "    best_epoch = 0\n",
    "    all_cost_train = []\n",
    "    all_cost_val = []\n",
    "\n",
    "    for epoch in range(epochs):\n",
    "        epoch_start_time = time.time()\n",
    "        \n",
    "        print('Epoch: {}'.format(epoch+1))\n",
    "        # Each epoch has a training and validation phase\n",
    "        for phase in ['train', 'val']:\n",
    "            if phase == 'train':\n",
    "                model.train()  # Set model to training mode\n",
    "                dataloader = train_loader\n",
    "                dataset_size = train_size\n",
    "            else:\n",
    "                model.eval()   # Set model to evaluate mode\n",
    "                dataloader = val_loader\n",
    "                dataset_size = val_size\n",
    "\n",
    "            running_loss = 0.0\n",
    "            running_corrects = 0\n",
    "\n",
    "            # Iterate over data.\n",
    "            for inputs, offsets, labels in dataloader:\n",
    "                inputs = inputs.to(device)\n",
    "                offsets = offsets.to(device)\n",
    "                labels = labels.to(device)\n",
    "                \n",
    "\n",
    "                optimizer.zero_grad() # reset gradients attribute to zero\n",
    "\n",
    "                # forward\n",
    "                # track history only if in train\n",
    "                with torch.set_grad_enabled(phase == 'train'):\n",
    "                    outputs = model(inputs, offsets)\n",
    "                    #_, preds = torch.max(outputs, 1)\n",
    "                    loss = criterion(outputs, labels)\n",
    "\n",
    "                    # backward + optimize only if in training phase\n",
    "                    if phase == 'train':\n",
    "                        loss.backward()\n",
    "                        optimizer.step()\n",
    "\n",
    "                # statistics\n",
    "                running_loss += loss.item() #* inputs.size(0)\n",
    "                running_corrects += torch.sum(outputs.argmax(1) == labels).item()\n",
    "                #running_corrects += torch.sum(preds == labels.data)\n",
    "            if phase == 'train':\n",
    "                scheduler.step()\n",
    "\n",
    "            epoch_loss = running_loss / dataset_size\n",
    "            epoch_acc = running_corrects / dataset_size\n",
    "            #epoch_acc = running_corrects.double() / dataset_size\n",
    "            \n",
    "            if phase == 'train':\n",
    "                all_cost_train.append(epoch_loss)\n",
    "            else:\n",
    "                all_cost_val.append(epoch_loss)\n",
    "\n",
    "            print('[{}] -> Loss: {:.4f} Acc: {:.4f}'.format(\n",
    "                phase, epoch_loss, epoch_acc))\n",
    "\n",
    "            # deep copy the model\n",
    "            if phase == 'val' and epoch_acc > best_val_acc:\n",
    "                best_val_acc = epoch_acc\n",
    "                best_parameters = copy.deepcopy(model.state_dict())\n",
    "                best_epoch = epoch\n",
    "\n",
    "        epoch_time_elapsed = time.time() - epoch_start_time\n",
    "        print('{:.0f}m {:.0f}s'.format(\n",
    "            epoch_time_elapsed // 60, epoch_time_elapsed % 60))\n",
    "        print('-' * 20)\n",
    "\n",
    "    time_elapsed = time.time() - start_time\n",
    "    print()\n",
    "    print('Training completed in {:.0f}m {:.0f}s'.format(\n",
    "        time_elapsed // 60, time_elapsed % 60))\n",
    "    \n",
    "    print('Best validation Acc: {:4f} , occured in epoch: {}'.format(\n",
    "        best_val_acc, best_epoch+1))\n",
    "\n",
    "    # load best model weights\n",
    "    model.load_state_dict(best_parameters)\n",
    "    # save model to file\n",
    "    #torch.save(model.state_dict(), PATH_state_dict)\n",
    "    \n",
    "    plt.plot(all_cost_train,label='Train Loss',color='blue')\n",
    "    plt.plot(all_cost_val,label='Val Loss',color='green')\n",
    "    plt.title('Overall loss')\n",
    "    plt.ylabel('Cost')\n",
    "    plt.xlabel('Epoch')\n",
    "    plt.legend()\n",
    "    plt.show()\n",
    "    \n",
    "    return model"
   ]
  },
  {
   "cell_type": "code",
   "execution_count": 13,
   "metadata": {},
   "outputs": [
    {
     "name": "stdout",
     "output_type": "stream",
     "text": [
      "Epoch: 1\n",
      "[train] -> Loss: 0.0662 Acc: 0.5414\n",
      "[val] -> Loss: 0.0594 Acc: 0.5955\n",
      "0m 39s\n",
      "--------------------\n",
      "Epoch: 2\n",
      "[train] -> Loss: 0.0585 Acc: 0.5960\n",
      "[val] -> Loss: 0.0588 Acc: 0.6032\n",
      "0m 34s\n",
      "--------------------\n",
      "Epoch: 3\n",
      "[train] -> Loss: 0.0552 Acc: 0.6199\n",
      "[val] -> Loss: 0.0577 Acc: 0.6175\n",
      "0m 34s\n",
      "--------------------\n",
      "Epoch: 4\n",
      "[train] -> Loss: 0.0525 Acc: 0.6392\n",
      "[val] -> Loss: 0.0588 Acc: 0.6107\n",
      "0m 34s\n",
      "--------------------\n",
      "Epoch: 5\n",
      "[train] -> Loss: 0.0502 Acc: 0.6553\n",
      "[val] -> Loss: 0.0609 Acc: 0.5983\n",
      "0m 35s\n",
      "--------------------\n",
      "Epoch: 6\n",
      "[train] -> Loss: 0.0481 Acc: 0.6723\n",
      "[val] -> Loss: 0.0590 Acc: 0.6184\n",
      "0m 36s\n",
      "--------------------\n",
      "Epoch: 7\n",
      "[train] -> Loss: 0.0460 Acc: 0.6875\n",
      "[val] -> Loss: 0.0619 Acc: 0.6006\n",
      "0m 35s\n",
      "--------------------\n",
      "Epoch: 8\n",
      "[train] -> Loss: 0.0440 Acc: 0.7038\n",
      "[val] -> Loss: 0.0606 Acc: 0.6130\n",
      "0m 37s\n",
      "--------------------\n",
      "\n",
      "Training completed in 4m 44s\n",
      "Best val Acc: 0.618369 , occured in epoch: 6\n"
     ]
    },
    {
     "data": {
      "image/png": "[encoded data removed]",
      "text/plain": [
       "<Figure size 432x288 with 1 Axes>"
      ]
     },
     "metadata": {
      "needs_background": "light"
     },
     "output_type": "display_data"
    },
    {
     "data": {
      "text/plain": [
       "textSentiment(\n",
       "  (embedding): EmbeddingBag(6854233, 16, mode=mean)\n",
       "  (fc): Linear(in_features=16, out_features=5, bias=True)\n",
       ")"
      ]
     },
     "execution_count": 13,
     "metadata": {},
     "output_type": "execute_result"
    }
   ],
   "source": [
    "train(text_classification, criterion, optimizer, scheduler, epochs=8)"
   ]
  },
  {
   "cell_type": "code",
   "execution_count": 14,
   "metadata": {},
   "outputs": [],
   "source": [
    "from torchtext.data.utils import ngrams_iterator\n",
    "from torchtext.data.utils import get_tokenizer\n",
    "\n",
    "\n",
    "def predict(text, model, dictionary, ngrams):\n",
    "    \"\"\"\n",
    "    The predict() function here is used to test the model on a sample text.\n",
    "    The input text is numericalized with the vocab and then sent to\n",
    "    the model for inference.\n",
    "    Arguments:\n",
    "        text: a sample text string\n",
    "        model: the trained model\n",
    "        dictionary: a vocab object for the information of string-to-index\n",
    "        ngrams: the number of ngrams.\n",
    "    \"\"\"\n",
    "    tokenizer = get_tokenizer(\"basic_english\")\n",
    "    with torch.no_grad():\n",
    "        text = torch.tensor([dictionary[token]\n",
    "                            for token in ngrams_iterator(tokenizer(text), ngrams)])\n",
    "        output = model(text, torch.tensor([0]))\n",
    "        return output.argmax(1).item()\n",
    "    "
   ]
  },
  {
   "cell_type": "code",
   "execution_count": 15,
   "metadata": {},
   "outputs": [],
   "source": [
    "stars_class = {0 : \"★\", 1 : \"★★\", 2 : \"★★★\", 3 : \"★★★★\", 4 : \"★★★★★\"}\n",
    "\n",
    "dictionary = train_dataset.get_vocab()\n",
    "model = text_classification.to(\"cpu\")"
   ]
  },
  {
   "cell_type": "code",
   "execution_count": 26,
   "metadata": {},
   "outputs": [
    {
     "name": "stdout",
     "output_type": "stream",
     "text": [
      "I got 'new' tires from them and within two weeks got a flat. I took my car to a local mechanic to see if i could get the hole patched, but they said the reason I had a flat was because the previous patch had blown - WAIT, WHAT? I just got the tire and never needed to have it patched? This was supposed to be a new tire. \\nI took the tire over to Flynn's and they told me that someone punctured my tire, then tried to patch it. So there are resentful tire slashers? I find that very unlikely. After arguing with the guy and telling him that his logic was far fetched he said he'd give me a new tire \\\"this time\\\". \\nI will never go back to Flynn's b/c of the way this guy treated me and the simple fact that they gave me a used tire!\n",
      "★ (★★)\n",
      "\n",
      "Don't waste your time.  We had two different people come to our house to give us estimates for a deck (one of them the OWNER).  Both times, we never heard from them.  Not a call, not the estimate, nothing.\n",
      "★ (★★)\n",
      "\n",
      "All I can say is the worst! We were the only 2 people in the place for lunch, the place was freezing and loaded with kids toys! 2 bicycles, a scooter, and an electronic keyboard graced the dining room. A fish tank with filthy, slimy fingerprints smeared all over it is there for your enjoyment.\\n\\nOur food came... no water to drink, no tea, medium temperature food. Of course its cold, just like the room, I never took my jacket off! The plates are too small, you food spills over onto some semi-clean tables as you sit in your completely worn out booth seat. The fried noodles were out of a box and nasty, the shrimp was mushy, the fried rice was bright yellow.\\n\\nWe asked for water, they brought us 1 in a SOLO cup for 2 people. I asked for hot tea, they said 10 minutes. What Chinese restaurant does not have hot tea available upon request?\\n\\nOver all.... my first and last visit to this place. The only good point was that it was cheap, and deservingly so.\n",
      "★ (★★)\n",
      "\n",
      "I have been to this restaurant twice and was disappointed both times. I won't go back. The first time we were there almost 3 hours. It took forever to order and then forever for our food to come and the place was empty. When I complained the manager was very rude and tried to blame us for taking to long to order. It made no sense, how could we order when the waitress wasn't coming to the table? After arguing with me he ended up taking $6 off of our $200+ bill. Ridiculous. If it were up to me I would have never returned. Unfortunately my family decided to go here again tonight. Again it took a long time to get our food. My food was cold and bland, my kids food was cold. My husbands salmon was burnt to a crisp and my sister in law took one bite of her trout and refused to eat any more because she claims it was so disgusting. The wedding soup and bread were good, but that's it! My drink sat empty throughout my meal and never got refilled even when I asked. Bad food, slow service and rude managers. I'll pass on this place if my family decides to go again. Not worth it at all with all the other good Italian options around.\n",
      "★ (★★)\n",
      "\n",
      "Food was NOT GOOD at all! My husband & I ate here a couple weeks ago for the first time. I ordered a salad & basil pesto cream pasta & my husband ordered the spinach & feta pasta. The salad was just a huge plate of spring mix (nothing else in it) with WAY to much vinegar dressing. My lettuce was drowning in the vinegar. My pesto pasta had no flavor (did not taste like a cream sauce to me) & the pesto was so runny/watery & way too much sauce not enough noodles. My husband's pasta had even less flavor than mine. We ate about a quarter of the food & couldn't even finish it. We took it home & it was so bad I didn't even eat my leftovers. And I hate wasting food!! Plus the prices are expensive for the amount of food you get & of course the poor quality. Don't waste your time eating here. There are much better Italian restaurants in Pittsburgh.\n",
      "★ (★★)\n",
      "\n",
      "This is a tiny Starbucks and it locations like this (although cute) makes you wonder if your really meant to hang out or just grab your coffee and leave. Leaving is always a good idea at this location anyway since you have a nice fountain in the back with benches and it is a central part of the Waterfront Shopping. \\n\\nStarbuck isn't my favorite coffee chain by any means. Is it just me or do all Starbuck coffees taste a little burnt and bitter? No matter how trendy, cool and upscale their establishments are I can't get around the yicky tasting bitterness of Staryucks regular coffees. Talk about over roasting a bean...Maybe something has changed with their regular coffee but I have not drank it in about a year. I am not one for soy caramel latte foofy stuff. Still I'll give the establishment tres estrellas for the fact that their espresso is acceptable and doesn't taste half as bad as the regular coffee bean.\n",
      "★★★ (★★★★)\n",
      "\n",
      "Typical Starbucks coffee chain. 2 things I dont like about this Starbucks: \\n\\n1. Ive been there twice and both times the place has been dirty, compared to the other Starbucks I have been in.\\n\\n2. If you have to use the bathroom, they give you a key thats attached to this nasty bottle. Im pretty sure they dont clean that bottle after every use or even nightly.\\n\\nAside from that, good coffee and fast/friendly service.\n",
      "★★ (★★★)\n",
      "\n",
      "So.Much.Fun! \\n\\nI WISH I could play a song at the drop of a hat. Too bad I never took piano lessons and I'd probably end up mumbling half the lyrics other than the chorus. Unless it's Salt n' Pepa's Shoop. \\n\\nThis is a really great place to go when you have out of town guests or are looking for a fun place to take someone for a birthday celebration or a fun night out. It's just something different to do other than boozing it up at the bars on a Saturday night. \\n\\nKeep in mind you'll be paying around a $5-10 cover plus whatever drinks and food you get. The good thing is the food is coming from the attached Rock Bottom Brewery. So a lot of it is restaurant quality good. Plus the brewery beer is actually pretty good! OF course you will be paying restaurant price drinks...so of course they're up charged a bit. But you do pay for the whole experience....so you gotta get into the spirit with some spirits! \\n\\nThe guys who play are incredibly talented. There's 2 guys that will take requests and play songs on the piano. They pretty much play ANYTHING you ask. Contemporary songs, throw back songs, fight songs, rap songs, pop songs. You name it, they play it. \\n\\nMy favorite part is when they switch out to another two guys. They'll all four get on stage and play two piano's, a guitar and drums. They usually rock out with some fun familiar songs (um, Journey, of course!). \\n\\nThe birthday song is seriously the best. They sing to you....and call you some names....with expletives. But in a totally nice way of course. You just have to go!\n",
      "★★★★★ (★★★★★)\n",
      "\n",
      "My friend is a piano teacher, so I took it as a good sign that Sing Sing would be quality stuff. It was her birthday, and I didn't really know anything about dueling piano bars. I was picturing glossy black grand pianos with glittering notes, pianists in black jackets and crystal glasses full of red wine. I am really, really glad I was wrong. \\n\\nIt was gritty, bawdy and quintessentially Pittsburgh. First off, the pianos are scuffed to hell, considering the number of tipsy people who sit on them nightly while being mildly humiliated. The musicians hammer away at them, and they're covered with N@ and Sing Sing stickers. It's obvious they've been well-loved. The music is anything but the elevator music I was picturing; it's rock, hip-hop, oldies, pop, and just about any genre imaginable thanks to the request system (send up a piece of paper with some money) and the amazing repertoire of the musicians. For instance, \\\"Rubber Ducky\\\" and \\\"Gangsta's Paradise\\\" were both featured when I was there, and both performed impeccably. They also honored a request for a Taylor Swift song only to receive $30 and a request for \\\"anything else,\\\" which they promptly followed. The musicians also do funny versions of popular songs, and throw in things like \\\"yinz\\\" instead of \\\"you.\\\"\\n\\nI saw in awe of the performers for a decent portion of the night. It must take a particularly special type of person to put on a show like this, considering the energy, confidence, wit, empathy, boldness, silliness, cleverness, and sheer talent a job like this requires. They rotate performers in and out so there's not even an intermission. I've read comments about the baseness of the humor, but I had no doubt the guys up on stage were intelligent dudes. They had great personalities: one was about 140 pounds, cheeky, and quick-witted. He acted out every sport in the winter olympics, and was pretty into this 90-something-year-old lady in the audience called Joan. The other had crazy hair and bright blue Chucks, beatboxed as well as he sang, and made it point to play a handful of songs for my friend's birthday. \\\"I think Ray Charles is the most soulful guy of all time,\\\" he said when she requested him.\\n\\nThere were tons of people celebrating birthdays, and one big bachelorette party the Saturday night I was there. The performers bring the birthday boy/girl, bachelor/bachelorette, etc. on stage (for a $20 tip, which is pretty easy to scrounge up among friends) and humiliate the hell out of them, i.e. this is not the place to be if you can't laugh at yourself. My friend had a short dress on when she sat on the piano, and they sang a three-minute song about her vagina.\\n\\nLuckily, the show eclipsed the bad service and overpriced, weak drinks, because those did feature heavily throughout the night. The rest of the staff was friendly, however, and I stumbled on the door guy singing and dancing by himself, which made me smile.\\n\\nSing Sing is definitely not an every weekend type of thing (much like Hofbr\\u00e4uhaus), but is a splendid way to celebrate a special occasion. Definitely belongs on every required Pittsburgh experiences list.\n",
      "★★★★★ (★★★★★)\n",
      "\n",
      "Stopped by on a Mon evening after trying to dine at Smoke Taqueria which is closed Mondays. Parking on street in front or behind off Hay St. Super friendly bartender. In warmer months they have huge outdoor area & big screen & upstairs cornhole game area. Okay draft beer selection and big bottle selection. Tried the italian club which was really good - two of us split one. Also tried sweet potato fries - amazingly good! Home made chips w bleu were overpowered by sauce. Bathroom was in need of plaster and wall repairs & was grossed out by toilet brush/holder on a shelf near toilet at eye level. Bet it's a fun place in warmer months.\n",
      "★★★★ (★★★★)\n",
      "\n",
      "Think Chuck E. Cheese for adults.  Skee Ball, video games pool tables.  Clean environment.  Good fun.\\n\\nUnfortunately, I went for a bite to eat and it was impossible to find anything good and healthy on the menu.  I ended up settling for spinach dip.  Sadly, they topped the dip off with horrible orange shredded cheese that appeared to have been popped in the microwave for a few seconds.  Blahhhh.  Trying to get something healthy, I ordered the apple pecan salad.  I swear the dressing came right out of the grocery store bottle.  I could barely eat the salad.  Too sweet.\\n\\nMy mom ordered a steak roll.....holy friedness!  The steak was more like hamburger fried with cheese and then stuffed into breading that was fried AGAIN!  Yowzer!  Artery clogger for sure.  \\n\\nI like the atmosphere.  I like the bar area.  Perhaps next time we'll just stop by for drinks instead.\n",
      "★★ (★★★)\n",
      "\n",
      "We came here on a Saturday night and luckily it wasn't as packed as I thought it would be. I love playing ticket games so luckily there were a lot of games to chose from and not many video games (sorry video game lovers!) We only played $20 worth of games and surprisingly we were there for awhile. I love their new Wheel of Fortune game! On our first play, we ended up winning a little over 700 tickets! They also have Fruit Ninja as a game. It was fun with the big widescreen but unfortunately you don't win as many tickets as you would hope. I wish their ticket center would have individual ticket counters like the other D&B's I've been to, where you feed a counting machine your tickets. At this place, they just weigh your tickets and give you the final count. We didn't try the food here and instead went to P.F. Chang's to eat before coming here, but the Eat & Play deal looked fun. Too bad it was only restricted to certain times of the day. Overall I had a blast here and definitely would come back. Hopefully next time when there is a deal or promotion.\n",
      "★★★★ (★★★★★)\n",
      "\n",
      "To keep it short and sweet: Save yourself $100. Buy a good board game, your alcohol of choice, order a pizza, and invite your friends over. \\n\\nWhat an incredible disappointment. After seeing the enticing commercials so many times, we decided to give this place a try on a double date. I understand the prices of the play cards and won't dispute them; however, the food was incredibly over-priced, came out COLD (as in, sat on a counter without warmers for a minimum of 30 minutes) and I literally had to ask the bartender if there was any vodka in my drink. It was pure juice. $38 for three shots that had little-no alcohol in them. (Not to mention, my glass was dirty, and I saw the bartender scoop the glass into the ice basin because she was too lazy to use the sanitary scoop. I know the Food and Beverage Commission would be as disappointed as I was.) The service was terrible. Don't ask for anything from your waiter, as they are a little too busy on their cell phones or conversing amongst themselves. \\n\\nWas it fun to be in an adult-themed arcade? Yes. If you're looking for a good atmosphere to go with friends to play games, I suppose I would advise you give it a shot. I would never recommend their food, customer service, or drinks. Save yourself the money and stay home, or go for a traditional bowling, figure skating, roller-blading, rock climbing, basically any other physically-entertaining themed date instead.\n",
      "★ (★★)\n",
      "\n",
      "Microbrewed beers are only a plus to me when they're better than the beer I would have drank otherwise.  One waitress I had while there tried to split the uprights between macrobrew and trendy by describing one of their beers as \\\"kind of like Coors Light\\\".  If I wanted Coors, I'll pay half as much and have one.  \\n\\nThe food is actually a saving grace, as it was pretty good.  Head next door to Sing Sing for drinks, though.\n",
      "★★ (★★★)\n",
      "\n",
      "This is literally the first place I went when I first came to Pittsburgh - and I loved it. Hearty, full-sized meals, lots to choose from, and not too crowded or noisy. Although, for the sake of full disclosure, I didn't sit at the bar and I don't drink alcohol so I can't comment on that. I go back to Pittsburgh often and Rock Bottom ends up being a good standby for a dinner and a movie kind of night. Really, I have no complaints about this place so I'm surprised by the few low ratings here.\n",
      "★★★★ (★★★★★)\n",
      "\n",
      "Wast there last Friday. Seats right in front if the stage. The show was good. The headliner, while a bit long, was good. Fantastic service from our waitresses. Will definitely go back.\n",
      "★★★★ (★★★★★)\n",
      "\n",
      "Great Barnes and Noble location, and they have plenty of books that'll help you pass the time.\n",
      "★★★★ (★★★★)\n",
      "\n",
      "The words \\\"epic fail\\\" get thrown around a lot these days....but I really feel like they apply in this situation.\\n\\nWe went on Friday, April 2 and arrived at 5:10pm.  It was busy, but not crowded....no waiting for a table.  Half price apps and drinks -- we ordered at 5:20.\\n\\nThe food (just appetizers, mind you...) didn't arrive till almost 6pm.  Drinks were ordered and were unbelievably slow.  We placed one order for 6 draft beers at 6:15...they arrived at 6:52.  *37 minutes for beer.*\\n\\nBy 7:00, we were canceling food orders which we'd given up on after waiting almost an hour.  We just wanted to leave.\\n\\nInstead of comping anything, they added 18% gratuity to each of our bills.  Uhhhh yeah.  Thanks for giving me one more reason never to come back.   We finally were able to leave around 7:30.\\n\\nBar Louie:  You are dead to me.\n",
      "★★ (★★)\n",
      "\n",
      "I was looking to get out of the apartment on a really nice, sunny day and we decided to drive to Waterfront and walk around. All around great day until we hit Bar Louie for some drinks and appetizers.\\n\\nI am giving it one star, though it deserves none, because our waitress was nice, if a bit inattentive, and the hummus app we ordered was pretty damn good. Outside of that Bar Louie leaves a lot to be desired.\\n\\nThis is probably the first place I've been to where they charge $10 and up for all mixed drinks. To me, that is beyond ridiculous. Bar Louie is not an upscale restaurant, as much as they wish they were, and paying almost $60 for three drinks and two appetizers is insanity defined. \\n\\nAs I mentioned the waitress was friendly, but she definitely did not come back and check on us enough. I really wanted to like this place because of things I had heard and the drinks we had were really damn good, but if it want to spend that kind of money, I'll go somewhere that I can get good service.\n",
      "★★ (★★)\n",
      "\n",
      "This place was pretty good food, but the service however was just horrible. As a friend said they hire for looks, not work ethic. Plus the fact that it took forty minutes just to get a couple appetizers was ridiculous. Our server seemed more interested in the table full of girls than actually waiting on us. The couple behind us came in the same time and wasn't even attended too until after OUR appetizers were being cleared off. \\n\\nThe food was pretty good, but because of the service I won't be returning.\n",
      "★★ (★★★★)\n",
      "\n",
      "The evites are in the mail for the 2 for $99 special! You will have to spend $24 on a parking pass. I signed up last year for this promotion and don't think I got the passes worth. \\n\\nThe waterpark is nice and lounging by the pool or floating around the lazy river is perfect for a hot summer day. There are just too many misses in my book though.\\n\\n1st off all Traffic is a biatch! Be ready to sit on browns hill rd for a very long time unless you leave before 9am and wait for the park to open at 10am. \\n\\nNext remember it is a family park so there will be lots of rude and bratty kids all over the place. (I'm not a mean kid hater) my experiences have been bad at the Sandbar pool. \\n\\nIf you do arrive early enough you will be standing in the hot sun with a gang of kids that WILL push you out of the way and run to claim 10 chairs with towels even though they won't use them because they run around the park all day. I actually got into an argument last summer with one said kid. I was like \\\"I'm an adult and you need to have some respect.\\\" He pushed me and took all the chairs. I only needed one and his mother did not correct him. I was on fire and moved a chair over from the back and he still was giving me crap because I moved the chairs over...THAT NO ONE was even there to sit in at the time. Damn! FOR REAL!\\n\\nSandbar drinks are expensive and incredibly weak. Plus they are so sugary. If you do get a frozen drink and sit by the pool be prepared for it to be half pool water in a few minutes. An Adult area would change all this. I don't even care that I'm getting splashed all the time I do realize that I'm at a pool but it's hard to relax.\\n\\nIf you do get a pass have a friend who can get there the same days you can go. If you're trying to go on the weekend forget it! The weekdays are bad enough. I'm looking for a better pool side lounge for this summer.\n",
      "★★ (★★★)\n",
      "\n"
     ]
    }
   ],
   "source": [
    "import csv\n",
    "with open('data/yelp_review_full_csv/test.csv') as csvfile:\n",
    "    test_dataset_csv = csv.reader(csvfile)\n",
    "    \n",
    "    for i, row in enumerate(test_dataset_csv):\n",
    "\n",
    "        print(\"{}\\n{} ({})\".format(\n",
    "            row[1], stars_class[predict(row[1], model, dictionary, ngrams)], stars_class[int(row[0])]))\n",
    "        print()\n",
    "        if i ==20:\n",
    "            break"
   ]
  },
  {
   "cell_type": "code",
   "execution_count": null,
   "metadata": {},
   "outputs": [],
   "source": []
  }
 ],
 "metadata": {
  "kernelspec": {
   "display_name": "Python 3",
   "language": "python",
   "name": "python3"
  }
 },
 "nbformat": 4,
 "nbformat_minor": 4
}
